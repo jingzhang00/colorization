{
 "cells": [
  {
   "cell_type": "code",
   "execution_count": 1,
   "metadata": {
    "collapsed": true
   },
   "outputs": [],
   "source": [
    "from metric import metrics, fid, metrics_dataset"
   ]
  },
  {
   "cell_type": "markdown",
   "source": [
    "Calculate MSE (Mean Squre Error), PSNR (Peak Signal-to-Noise Ratio) and SSIM (Structural Similarity) by given two separate file path of the two images."
   ],
   "metadata": {
    "collapsed": false
   }
  },
  {
   "cell_type": "code",
   "execution_count": 2,
   "outputs": [
    {
     "name": "stdout",
     "output_type": "stream",
     "text": [
      "./fold1/01.png ./fold2/01.png\n",
      "(200, 200) (200, 200)\n",
      "=====\n",
      "(200, 200, 4) (200, 200, 4)\n",
      "{'mse': 953.2968875, 'psnr': 18.33852185808392, 'ssim': 0.4711272826577663}\n"
     ]
    }
   ],
   "source": [
    "img1 = \"./fold1/01.png\"\n",
    "img2 = \"./fold2/01.png\"\n",
    "\n",
    "res = metrics(img1, img2)\n",
    "print(res)"
   ],
   "metadata": {
    "collapsed": false
   }
  },
  {
   "cell_type": "markdown",
   "source": [
    "Calculate FID (Fr´echet Inception Distance) by giving two folders of datasets. The defalut batch size is 1 so for large dataset you will probably need to specify a larger batch size to speed up the computation. You can also specify the number of workers by passing values to `num_workers` to accelerate the process."
   ],
   "metadata": {
    "collapsed": false
   }
  },
  {
   "cell_type": "code",
   "execution_count": 3,
   "outputs": [
    {
     "name": "stdout",
     "output_type": "stream",
     "text": [
      "0.04111645063938\n"
     ]
    }
   ],
   "source": [
    "dataset1 = './fold1'\n",
    "dataset2 = './fold2'\n",
    "res = fid(dataset1, dataset2)\n",
    "print(res)"
   ],
   "metadata": {
    "collapsed": false
   }
  },
  {
   "cell_type": "markdown",
   "source": [
    "Calculate the mean MSE, PSNR and SSIM over two dataset separately, you can enable `if_fid` to include FID."
   ],
   "metadata": {
    "collapsed": false
   }
  },
  {
   "cell_type": "code",
   "execution_count": 4,
   "outputs": [
    {
     "name": "stdout",
     "output_type": "stream",
     "text": [
      "{'mse': 1429.2505837500003, 'psnr': 16.743727916589123, 'ssim': 0.5792049268853492, 'fid': 0.04111645063938}\n"
     ]
    }
   ],
   "source": [
    "dataset1 = './fold1'\n",
    "dataset2 = './fold2'\n",
    "res = metrics_dataset(dataset1, dataset2, if_fid=True)\n",
    "print(res)"
   ],
   "metadata": {
    "collapsed": false
   }
  }
 ],
 "metadata": {
  "kernelspec": {
   "display_name": "Python 3",
   "language": "python",
   "name": "python3"
  },
  "language_info": {
   "codemirror_mode": {
    "name": "ipython",
    "version": 2
   },
   "file_extension": ".py",
   "mimetype": "text/x-python",
   "name": "python",
   "nbconvert_exporter": "python",
   "pygments_lexer": "ipython2",
   "version": "2.7.6"
  }
 },
 "nbformat": 4,
 "nbformat_minor": 0
}
