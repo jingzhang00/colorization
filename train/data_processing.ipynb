{
 "cells": [
  {
   "cell_type": "code",
   "execution_count": 2,
   "id": "687d63d6-e1c1-4abd-94e7-4a579f0a306e",
   "metadata": {
    "tags": []
   },
   "outputs": [],
   "source": [
    "from img2dataset import download\n",
    "import shutil\n",
    "import multiprocessing\n",
    "import json\n",
    "import os\n",
    "from datasets import Dataset, load_from_disk\n",
    "from pathlib import Path\n",
    "from PIL import Image"
   ]
  },
  {
   "cell_type": "code",
   "execution_count": 3,
   "id": "a597a248-91f1-483e-bb33-7e3667285235",
   "metadata": {
    "tags": []
   },
   "outputs": [
    {
     "name": "stdout",
     "output_type": "stream",
     "text": [
      "[{'image_id': 203564, 'id': 37, 'caption': 'A bicycle replica with a clock as the front wheel.'}, {'image_id': 322141, 'id': 49, 'caption': 'A room with blue walls and a white sink and door.'}, {'image_id': 16977, 'id': 89, 'caption': 'A car that seems to be parked illegally behind a legally parked car'}, {'image_id': 106140, 'id': 98, 'caption': 'A large passenger airplane flying through the air.'}, {'image_id': 106140, 'id': 101, 'caption': 'There is a GOL plane taking off in a partly cloudy sky.'}, {'image_id': 322141, 'id': 109, 'caption': 'Blue and white color scheme in a small bathroom.'}, {'image_id': 322141, 'id': 121, 'caption': 'This is a blue and white bathroom with a wall sink and a lifesaver on the wall.'}, {'image_id': 322141, 'id': 163, 'caption': 'A blue boat themed bathroom with a life preserver on the wall'}, {'image_id': 203564, 'id': 181, 'caption': 'The bike has a clock as a tire.'}, {'image_id': 16977, 'id': 185, 'caption': 'two cars parked on the sidewalk on the street'}]\n",
      "591753\n"
     ]
    }
   ],
   "source": [
    "train_captions_path = '/root/autodl-tmp/data/annotations/captions_train2017.json'\n",
    "val_captions_path = '/root/autodl-tmp/data/annotations/captions_val2017.json'\n",
    "train_path = '/root/autodl-tmp/data/train2017'\n",
    "val_path = '/root/autodl-tmp/data/val2017'\n",
    "\n",
    "save_to_path = \"/root/autodl-tmp/data/grayscale_image_512_100k\"\n",
    "cache_path = \"/root/autodl-tmp/data/cache_512_100k\"\n",
    "\n",
    "img_path = train_path\n",
    "caption_path = train_captions_path\n",
    "\n",
    "with open(caption_path) as f:\n",
    "    annotations = json.load(f)[\"annotations\"]\n",
    "print(annotations[0:10])\n",
    "print(len(annotations))"
   ]
  },
  {
   "cell_type": "code",
   "execution_count": 4,
   "id": "4b13aa66-ed54-493e-9b71-927c9bb98e4e",
   "metadata": {
    "tags": []
   },
   "outputs": [
    {
     "data": {
      "application/vnd.jupyter.widget-view+json": {
       "model_id": "6002efad1c7948699edf544f9c0e98ec",
       "version_major": 2,
       "version_minor": 0
      },
      "text/plain": [
       "Generating train split: 0 examples [00:00, ? examples/s]"
      ]
     },
     "metadata": {},
     "output_type": "display_data"
    },
    {
     "data": {
      "application/vnd.jupyter.widget-view+json": {
       "model_id": "7d0966b63ae44615bd237fa89e7dbe6e",
       "version_major": 2,
       "version_minor": 0
      },
      "text/plain": [
       "Saving the dataset (0/120 shards):   0%|          | 0/100000 [00:00<?, ? examples/s]"
      ]
     },
     "metadata": {},
     "output_type": "display_data"
    }
   ],
   "source": [
    "image_folder = Path(img_path)\n",
    "size = 512\n",
    "def entry_for_id(image_folder, image_id, caption):\n",
    "    file_name = str(image_id).zfill(12) + '.jpg'\n",
    "    img = Image.open(image_folder / file_name)\n",
    "    img = img.resize((size, size))\n",
    "    gray_img = img.convert('L')\n",
    "    \n",
    "    return {\n",
    "        \"image\": img,\n",
    "        \"grayscale_image\": gray_img,\n",
    "        \"caption\": caption\n",
    "    }\n",
    "\n",
    "            \n",
    "max_images = 100000\n",
    "\n",
    "\n",
    "def generate_entries():\n",
    "    index = 0\n",
    "    for annotation in annotations:\n",
    "        image_id = annotation['image_id']\n",
    "        caption = annotation['caption']\n",
    "        yield entry_for_id(image_folder, image_id, caption)\n",
    "        index += 1\n",
    "        if index >= max_images:\n",
    "            break\n",
    "\n",
    "# def g():\n",
    "#     i = 0\n",
    "#     for i in range(2000):\n",
    "#         yield {\n",
    "#         \"image\": i,\n",
    "#         \"grayscale_image\": i,\n",
    "#         \"caption\": i\n",
    "#     }\n",
    "ds = Dataset.from_generator(generate_entries, cache_dir=cache_path)\n",
    "# ds = Dataset.from_generator(generate_entries, output_types=tf.int32)\n",
    "# ds = Dataset.from_generator(g)\n",
    "ds.save_to_disk(save_to_path)"
   ]
  },
  {
   "cell_type": "code",
   "execution_count": null,
   "id": "d330e449-f954-47aa-b11b-712d810bf43c",
   "metadata": {
    "tags": []
   },
   "outputs": [],
   "source": [
    "# visualize images during training\n",
    "from PIL import Image\n",
    "import random\n",
    "\n",
    "with open(val_captions_path) as f:\n",
    "    annotations = json.load(f)[\"annotations\"]\n",
    "    \n",
    "randomSamp = random.sample(range(500), 5)\n",
    "\n",
    "for i in randomSamp:\n",
    "    img_id = annotations[i]['image_id']\n",
    "    caption = annotations[i]['caption']\n",
    "    image = Image.open('/root/autodl-tmp/data/val2017/'+str(img_id).zfill(12) + '.jpg')\n",
    "    new_im = image.resize((size, size))\n",
    "    new_im = new_im.convert('L')\n",
    "    new_im.save('/root/diffusers/examples/controlnet/samples/'+ str(img_id) + '.jpg')\n",
    "    print(caption)"
   ]
  },
  {
   "cell_type": "code",
   "execution_count": 5,
   "id": "3ed612c1-f315-4b9b-852a-a9932fee1e93",
   "metadata": {
    "tags": []
   },
   "outputs": [
    {
     "name": "stdout",
     "output_type": "stream",
     "text": [
      "226408Child laying down with arms extended in the air.\n",
      "99054An airplane parked at the runway is being serviced by workers.\n",
      "249025A beautiful yellow rose is seen in a small vase.\n",
      "561256A woman in a yellow bathroom is holding a camera.\n",
      "492937The bicycle is locked to the metal pole as the young man waits to board the mass  transit train.\n",
      "423971a bathroom with a fancy toilet in it\n",
      "44652An single passanger in an airplane flying through the sky\n",
      "63740A laptop computer and a desktop computer on a white desk\n",
      "140420A motorcycle is parked on a gravel road in a forest by a stream.\n",
      "179765A motorcycle with its brake extended standing outside\n"
     ]
    }
   ],
   "source": [
    "from PIL import Image\n",
    "import random\n",
    "with open(val_captions_path) as f:\n",
    "    annotations = json.load(f)[\"annotations\"]\n",
    "    \n",
    "randomSamp = random.sample(range(500), 10)\n",
    "\n",
    "for i in randomSamp:\n",
    "    img_id = annotations[i]['image_id']\n",
    "    caption = annotations[i]['caption']\n",
    "    image = Image.open('/root/autodl-tmp/data/val2017/'+str(img_id).zfill(12) + '.jpg')\n",
    "    new_im = image.resize((512, 512))\n",
    "    new_im.save('/root/diffusers/examples/controlnet/samples/512/'+ 'color' + str(img_id) + '.jpg')\n",
    "    new_im = new_im.convert('L')\n",
    "    new_im.save('/root/diffusers/examples/controlnet/samples/512/'+ str(img_id) + '.jpg')\n",
    "    print(str(img_id) + caption)"
   ]
  },
  {
   "cell_type": "code",
   "execution_count": null,
   "id": "e09e27e8-8e45-4c70-a6bd-ab12ec804f03",
   "metadata": {},
   "outputs": [],
   "source": []
  }
 ],
 "metadata": {
  "kernelspec": {
   "display_name": "Python 3 (ipykernel)",
   "language": "python",
   "name": "python3"
  },
  "language_info": {
   "codemirror_mode": {
    "name": "ipython",
    "version": 3
   },
   "file_extension": ".py",
   "mimetype": "text/x-python",
   "name": "python",
   "nbconvert_exporter": "python",
   "pygments_lexer": "ipython3",
   "version": "3.8.10"
  }
 },
 "nbformat": 4,
 "nbformat_minor": 5
}
